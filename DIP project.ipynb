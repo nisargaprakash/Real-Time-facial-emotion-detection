{
 "cells": [
  {
   "cell_type": "code",
   "execution_count": 7,
   "id": "bba3a965",
   "metadata": {},
   "outputs": [],
   "source": [
    "import cv2\n",
    "from fer import FER\n",
    "\n",
    "# Initialize the FER model\n",
    "emotion_detector = FER(min_face_size=65)\n",
    "\n",
    "# Open the webcam\n",
    "video_capture = cv2.VideoCapture(0)\n",
    "\n",
    "# Loop to capture and process frames\n",
    "while True:\n",
    "    # Read the frame from the webcam\n",
    "    ret, frame = video_capture.read()\n",
    "\n",
    "    # Detect faces in the frame\n",
    "    faces = emotion_detector.detect_emotions(frame)\n",
    "\n",
    "    # Process each detected face\n",
    "    for face in faces:\n",
    "        # Extract the bounding box coordinates\n",
    "        x, y, w, h = face['box']\n",
    "\n",
    "        # Draw a rectangle around the face\n",
    "        cv2.rectangle(frame, (x, y), (x + w, y + h), (0, 255, 0), 2)\n",
    "\n",
    "        # Recognize the emotion\n",
    "        emotions = face['emotions']\n",
    "        emotion = max(emotions, key=emotions.get)\n",
    "\n",
    "        # Display the emotion text above the face rectangle\n",
    "        cv2.putText(frame, emotion, (x, y - 10),\n",
    "                    cv2.FONT_HERSHEY_PLAIN, 1.5, (0, 255, 0), 2)\n",
    "\n",
    "    # Display the resulting frame\n",
    "    cv2.imshow('Facial Emotion Recognition', frame)\n",
    "\n",
    "    # Exit the loop if 'q' is pressed\n",
    "    if cv2.waitKey(1) & 0xFF == ord('q'):\n",
    "        break\n",
    "\n",
    "# Release the webcam and close the windows\n",
    "video_capture.release()\n",
    "cv2.destroyAllWindows()\n"
   ]
  },
  {
   "cell_type": "code",
   "execution_count": null,
   "id": "416617d5",
   "metadata": {},
   "outputs": [],
   "source": []
  },
  {
   "cell_type": "code",
   "execution_count": null,
   "id": "84062ceb",
   "metadata": {},
   "outputs": [],
   "source": []
  },
  {
   "cell_type": "code",
   "execution_count": null,
   "id": "838b140a",
   "metadata": {},
   "outputs": [],
   "source": []
  },
  {
   "cell_type": "code",
   "execution_count": null,
   "id": "57bc2dd3",
   "metadata": {},
   "outputs": [],
   "source": []
  }
 ],
 "metadata": {
  "kernelspec": {
   "display_name": "Python 3 (ipykernel)",
   "language": "python",
   "name": "python3"
  },
  "language_info": {
   "codemirror_mode": {
    "name": "ipython",
    "version": 3
   },
   "file_extension": ".py",
   "mimetype": "text/x-python",
   "name": "python",
   "nbconvert_exporter": "python",
   "pygments_lexer": "ipython3",
   "version": "3.10.9"
  }
 },
 "nbformat": 4,
 "nbformat_minor": 5
}
